{
 "cells": [
  {
   "cell_type": "code",
   "execution_count": 1,
   "metadata": {},
   "outputs": [
    {
     "name": "stdout",
     "output_type": "stream",
     "text": [
      "2.5 10\n",
      "[Open3D DEBUG] Precompute Neighbours\n",
      "[Open3D DEBUG] Done Precompute Neighbours\n",
      "[Open3D DEBUG] Compute Clusters\n",
      "[Open3D DEBUG] Done Compute Clusters: 2848\n"
     ]
    },
    {
     "data": {
      "text/plain": [
       "(1037625, 3)"
      ]
     },
     "execution_count": 1,
     "metadata": {},
     "output_type": "execute_result"
    }
   ],
   "source": [
    "%load_ext autoreload\n",
    "%autoreload 2\n",
    "import pickle\n",
    "import open3d as o3d\n",
    "import numpy as np\n",
    "test = None\n",
    "with open(\"src/no_ground_all.pkl\", \"rb\") as f:\n",
    "    test = pickle.load(f)\n",
    "pkl_downpcd = o3d.geometry.PointCloud()\n",
    "pkl_downpcd.points = o3d.utility.Vector3dVector(test)\n",
    "\n",
    "# eps= 3.0\n",
    "# min_points = 3\n",
    "eps= 2.5\n",
    "min_points = 10\n",
    "print(eps, min_points)\n",
    "\n",
    "with o3d.utility.VerbosityContextManager(\n",
    "        o3d.utility.VerbosityLevel.Debug) as cm:\n",
    "    labels = np.array(\n",
    "        pkl_downpcd.cluster_dbscan(eps=eps, min_points=min_points, print_progress=True))\n",
    "\n",
    "max_label = labels.max()\n",
    "test.shape"
   ]
  },
  {
   "cell_type": "code",
   "execution_count": 29,
   "metadata": {},
   "outputs": [],
   "source": [
    "def display_2d(data):\n",
    "    import plotly.graph_objects as go\n",
    "    from PIL import Image\n",
    "    small_img = Image.open(\"../lidar/data/481E_5456N_tiny.png\")\n",
    "    size = 1000\n",
    "    fig = go.Figure(data=[go.Scattergl(\n",
    "    x = data[:, 0],\n",
    "    y = data[:, 1],\n",
    "    mode='markers',\n",
    "    marker=dict(\n",
    "        size=2,\n",
    "        color=data[:, 2],                # set color to an array/list of desired values\n",
    "        colorscale='Viridis',   # choose a colorscale\n",
    "        opacity=1.0\n",
    "    ))])\n",
    "    \n",
    "    offset = 1000\n",
    "    fig.add_layout_image(\n",
    "            dict(\n",
    "                source=small_img,\n",
    "                xref=\"x\",\n",
    "                yref=\"y\",\n",
    "                x=0,\n",
    "                y=offset,\n",
    "                sizex=size,\n",
    "                sizey=size,\n",
    "                sizing=\"stretch\",\n",
    "                opacity=0.6,\n",
    "                layer=\"below\")\n",
    "    )\n",
    "\n",
    "    # Set templates\n",
    "    fig.update_layout(template=\"plotly_white\")\n",
    "    fig.update_yaxes(\n",
    "        scaleanchor = \"x\",\n",
    "        scaleratio = 1,\n",
    "      )\n",
    "    fig.show()\n",
    "    \n",
    "def display_labelled_data_2d(data, labels):\n",
    "    import plotly.graph_objects as go\n",
    "    from PIL import Image\n",
    "    small_img = Image.open(\"../lidar/data/481E_5456N_tiny.png\")\n",
    "\n",
    "    size = 1000\n",
    "    fig = go.Figure()\n",
    "    for i in np.arange(labels.max()):\n",
    "        x_cluster = data[:, 0][np.where(labels == i)]\n",
    "        y_cluster = data[:, 1][np.where(labels == i)]\n",
    "        fig.add_trace(go.Scattergl(x=x_cluster, y=y_cluster,\n",
    "                                    mode='markers',\n",
    "                                    marker=dict(\n",
    "                                        size=2,\n",
    "                                        color=i,                # set color to an array/list of desired values\n",
    "                                        colorscale='Viridis',   # choose a colorscale\n",
    "                                        opacity=0.8\n",
    "    )))\n",
    "    \n",
    "    offset = 1000\n",
    "    fig.add_layout_image(\n",
    "            dict(\n",
    "                source=small_img,\n",
    "                xref=\"x\",\n",
    "                yref=\"y\",\n",
    "                x=0,\n",
    "                y=offset,\n",
    "                sizex=size,\n",
    "                sizey=size,\n",
    "                sizing=\"stretch\",\n",
    "                opacity=0.8,\n",
    "                layer=\"below\")\n",
    "    )\n",
    "\n",
    "    # Set templates\n",
    "    fig.update_layout(template=\"plotly_white\")\n",
    "    fig.update_yaxes(\n",
    "        scaleanchor = \"x\",\n",
    "        scaleratio = 1,\n",
    "      )\n",
    "    fig.show()\n",
    "import plotly.io as pio\n",
    "# too many points, cannot render embedded\n",
    "pio.renderers.default = \"browser\"\n",
    "\n",
    "# display_labelled_data_2d(np.asarray(pkl_downpcd.points), labels)\n",
    "display_2d(np.asarray(pkl_downpcd.points))"
   ]
  },
  {
   "cell_type": "code",
   "execution_count": 8,
   "metadata": {},
   "outputs": [
    {
     "name": "stdout",
     "output_type": "stream",
     "text": [
      "RGB\n"
     ]
    },
    {
     "name": "stderr",
     "output_type": "stream",
     "text": [
      "<ipython-input-8-fd15d7fc2861>:26: RuntimeWarning:\n",
      "\n",
      "invalid value encountered in double_scalars\n",
      "\n"
     ]
    }
   ],
   "source": [
    "from PIL import Image\n",
    "import math\n",
    "import plotly.graph_objects as go\n",
    "small_img = Image.open(\"../lidar/data/481E_5456N_tiny.png\")\n",
    "\n",
    "data = np.asarray(pkl_downpcd.points)\n",
    "img = np.array(small_img)\n",
    "print(small_img.mode)\n",
    "size = 1000\n",
    "fig = go.Figure()\n",
    "\n",
    "high_vegetation = None\n",
    "\n",
    "for i in np.arange(labels.max()):\n",
    "#     i = labels.max() - i\n",
    "    x_cluster = data[:, 0][np.where(labels == i)]\n",
    "    y_cluster = data[:, 1][np.where(labels == i)]\n",
    "    z_cluster = data[:, 2][np.where(labels == i)]\n",
    "    rgbvi_sum = 0\n",
    "    gli_sum = 0\n",
    "    for i in np.arange(x_cluster.shape[0]):\n",
    "        rgb = img[math.floor(999 - y_cluster[i]), math.ceil(x_cluster[i]) - 1,  :]\n",
    "        # the default type is uint\n",
    "        rgb = rgb.astype('float64') \n",
    "        gli_sum += (2 * rgb[1] - rgb[0] - rgb[2]) / (2 * rgb[1] + rgb[0] + rgb[2])\n",
    "        rgbvi_sum +=((rgb[1] * rgb[1] - rgb[0]*rgb[2]) * 1.0) /(rgb[1] * rgb[1]  + rgb[0]*rgb[2]) \n",
    "    rgbvi_avg = rgbvi_sum /  x_cluster.shape[0]\n",
    "    gli_avg = gli_sum /  x_cluster.shape[0]\n",
    "    # filter\n",
    "    if rgbvi_avg > 0.03:\n",
    "#     fig.add_annotation(x=x_cluster[0], y=y_cluster[0],\n",
    "#         text=\"rgbvi:%.3f\" % rgbvi_avg,\n",
    "#         showarrow=True,\n",
    "#         arrowhead=1)\n",
    "#     fig.add_annotation(x=x_cluster[-1], y=y_cluster[-1],\n",
    "#         text=\"gli:%.3f\" % gli_avg,\n",
    "#         showarrow=True,\n",
    "#         arrowhead=1)\n",
    "        if high_vegetation is None:\n",
    "            high_vegetation = np.vstack((x_cluster, y_cluster, z_cluster)).T\n",
    "        else:\n",
    "            high_vegetation = np.vstack((high_vegetation, np.vstack((x_cluster, y_cluster, z_cluster)).T))\n",
    "        fig.add_trace(go.Scattergl(x=x_cluster, y=y_cluster, \n",
    "           mode = \"markers\",\n",
    "            marker=dict(\n",
    "                size=3,\n",
    "                color=i,                # set color to an array/list of desired values\n",
    "                colorscale='Viridis',   # choose a colorscale\n",
    "                opacity=0.8\n",
    "        )))\n",
    "\n",
    "offset = 1000\n",
    "fig.add_layout_image(\n",
    "        dict(\n",
    "            source=small_img,\n",
    "            xref=\"x\",\n",
    "            yref=\"y\",\n",
    "            x=0,\n",
    "            y=offset,\n",
    "            sizex=size,\n",
    "            sizey=size,\n",
    "            sizing=\"stretch\",\n",
    "            opacity=0.85,\n",
    "            layer=\"below\")\n",
    ")\n",
    "\n",
    "# Set templates\n",
    "fig.update_layout(template=\"plotly_white\")\n",
    "fig.update_traces(textposition='top center')\n",
    "fig.update_yaxes(\n",
    "    scaleanchor = \"x\",\n",
    "    scaleratio = 1,\n",
    "  )\n",
    "# pio.renderers.default = \"jupyterlab\"\n",
    "fig.show()"
   ]
  },
  {
   "cell_type": "code",
   "execution_count": 9,
   "metadata": {},
   "outputs": [],
   "source": [
    "display_2d(high_vegetation)"
   ]
  },
  {
   "cell_type": "code",
   "execution_count": 27,
   "metadata": {},
   "outputs": [],
   "source": [
    "import laspy\n",
    "header = laspy.header.Header()\n",
    "outFile1 = laspy.file.File(\"../lidar/data/2015/4810E_54560N.las\", mode = \"w\",header = header)\n",
    "outFile1.X = high_vegetation[:, 0]  + (4810 - 4000) * 10000\n",
    "outFile1.Y = high_vegetation[:, 1]  + (54560 - 50000) * 10000\n",
    "outFile1.Z = high_vegetation[:, 2] * 100\n",
    "outFile1.Classification = np.ones(high_vegetation.shape[0]).astype(np.uint8) * 5\n",
    "\n",
    "outFile1.close()"
   ]
  },
  {
   "cell_type": "code",
   "execution_count": 28,
   "metadata": {},
   "outputs": [
    {
     "data": {
      "text/plain": [
       "array([((8100118, 45600500,  240, 0, 0, 5, 0, 0, 0),),\n",
       "       ((8100124, 45600500,  245, 0, 0, 5, 0, 0, 0),),\n",
       "       ((8100123, 45600499,  488, 0, 0, 5, 0, 0, 0),), ...,\n",
       "       ((8100741, 45600516,  961, 0, 0, 5, 0, 0, 0),),\n",
       "       ((8100739, 45600514, 1160, 0, 0, 5, 0, 0, 0),),\n",
       "       ((8100741, 45600515, 1014, 0, 0, 5, 0, 0, 0),)],\n",
       "      dtype=[('point', [('X', '<i4'), ('Y', '<i4'), ('Z', '<i4'), ('intensity', '<u2'), ('flag_byte', 'u1'), ('raw_classification', 'u1'), ('scan_angle_rank', 'i1'), ('user_data', 'u1'), ('pt_src_id', '<u2')])])"
      ]
     },
     "execution_count": 28,
     "metadata": {},
     "output_type": "execute_result"
    }
   ],
   "source": [
    "inFile = laspy.file.File(\"../lidar/data/2015/4810E_54560N.las\", mode='r')\n",
    "I = inFile.Classification == 5\n",
    "test = inFile.points[I]\n",
    "test"
   ]
  },
  {
   "cell_type": "code",
   "execution_count": 13,
   "metadata": {},
   "outputs": [
    {
     "data": {
      "text/plain": [
       "array([((8107526, 45683767, 8986, 27655, 25, 5,  29, 1, 1015, 2.19477351e+08),),\n",
       "       ((8107488, 45683637, 8751, 16471, 26, 5,  29, 1, 1015, 2.19477351e+08),),\n",
       "       ((8107604, 45684041, 9349, 35432,  9, 5,  29, 1, 1015, 2.19477351e+08),),\n",
       "       ...,\n",
       "       ((8170733, 45607069, 8501,  1660, 26, 5, -17, 2, 2043, 2.19561417e+08),),\n",
       "       ((8170807, 45607087, 8547, 16427, 25, 5, -17, 2, 2043, 2.19561417e+08),),\n",
       "       ((8170783, 45607081, 8468, 23068, 26, 5, -17, 2, 2043, 2.19561417e+08),)],\n",
       "      dtype=[('point', [('X', '<i4'), ('Y', '<i4'), ('Z', '<i4'), ('intensity', '<u2'), ('flag_byte', 'u1'), ('raw_classification', 'u1'), ('scan_angle_rank', 'i1'), ('user_data', 'u1'), ('pt_src_id', '<u2'), ('gps_time', '<f8')])])"
      ]
     },
     "execution_count": 13,
     "metadata": {},
     "output_type": "execute_result"
    }
   ],
   "source": [
    "inFile = laspy.file.File(\"../lidar/data/2018/4810E_54560N.las\", mode='r')\n",
    "I = inFile.Classification == 5\n",
    "test = inFile.points[I]\n",
    "test"
   ]
  }
 ],
 "metadata": {
  "kernelspec": {
   "display_name": "Python 3",
   "language": "python",
   "name": "python3"
  },
  "language_info": {
   "codemirror_mode": {
    "name": "ipython",
    "version": 3
   },
   "file_extension": ".py",
   "mimetype": "text/x-python",
   "name": "python",
   "nbconvert_exporter": "python",
   "pygments_lexer": "ipython3",
   "version": "3.8.8"
  }
 },
 "nbformat": 4,
 "nbformat_minor": 4
}
