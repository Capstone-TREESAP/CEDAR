{
 "cells": [
  {
   "cell_type": "code",
   "execution_count": 2,
   "metadata": {},
   "outputs": [],
   "source": [
    "import os, geojson, numpy as np, uuid"
   ]
  },
  {
   "cell_type": "code",
   "execution_count": 5,
   "metadata": {},
   "outputs": [],
   "source": [
    "directory = \"/home/jonathan/ubc/capstone/TREESAP-Database/orthophoto/2014\"\n",
    "os.chdir(directory)\n",
    "feature_list = []\n",
    "\n",
    "with open(\"full_map.geojson\") as f:\n",
    "    gj = geojson.load(f)\n",
    "    feature_list = gj['features']\n",
    "# Format: {L,O,C,I}-{year if applicable}-{centroid coordinate x}-{centroid coordinate y}\n",
    "for feature in feature_list:\n",
    "    coords = np.array(feature[\"geometry\"][\"coordinates\"][0])*10000\n",
    "    feature[\"properties\"][\"id\"] = \"O-2014-\" + str(uuid.uuid4())\n",
    "\n",
    "feature_collection = geojson.FeatureCollection(feature_list)\n",
    "\n",
    "with open(\"full_map_with_uuid.geojson\", mode = \"w\") as out_file:\n",
    "    geojson.dump(feature_collection,out_file)\n"
   ]
  },
  {
   "cell_type": "code",
   "execution_count": null,
   "metadata": {},
   "outputs": [],
   "source": [
    "directory = \"/home/jonathan/ubc/capstone/TREESAP-Database/orthophoto/2014\"\n",
    "os.chdir(directory)\n",
    "feature_list = []\n",
    "\n",
    "with open(\"full_map.geojson\") as f:\n",
    "    gj = geojson.load(f)\n",
    "    feature_list = gj['features']\n",
    "# Format: {L,O,C,I}-{year if applicable}-{centroid coordinate x}-{centroid coordinate y}\n",
    "for feature in feature_list:\n",
    "    coords = np.array(feature[\"geometry\"][\"coordinates\"][0])*10000\n",
    "    feature[\"properties\"][\"id\"] = \"O-2014-\" + str(uuid.uuid4())\n",
    "\n",
    "feature_collection = geojson.FeatureCollection(feature_list)\n",
    "\n",
    "with open(\"full_map_with_centroid_ id.geojson\", mode = \"w\") as out_file:\n",
    "    geojson.dump(feature_collection,out_file)\n"
   ]
  }
 ],
 "metadata": {
  "kernelspec": {
   "display_name": "Python 3",
   "language": "python",
   "name": "python3"
  },
  "language_info": {
   "codemirror_mode": {
    "name": "ipython",
    "version": 3
   },
   "file_extension": ".py",
   "mimetype": "text/x-python",
   "name": "python",
   "nbconvert_exporter": "python",
   "pygments_lexer": "ipython3",
   "version": "3.6.9"
  }
 },
 "nbformat": 4,
 "nbformat_minor": 4
}
