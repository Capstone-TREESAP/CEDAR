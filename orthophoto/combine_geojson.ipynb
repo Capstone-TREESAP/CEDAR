{
 "cells": [
  {
   "cell_type": "code",
   "execution_count": 1,
   "metadata": {},
   "outputs": [],
   "source": [
    "import os, geojson"
   ]
  },
  {
   "cell_type": "code",
   "execution_count": 2,
   "metadata": {},
   "outputs": [],
   "source": [
    "directory = \"/home/jonathan/ubc/capstone/orthophoto/2015\"\n",
    "os.chdir(directory)\n",
    "feature_list = []\n",
    "\n",
    "for file in os.listdir(directory):\n",
    "     if file.endswith(\"N.geojson\"): \n",
    "        with open(file) as f:\n",
    "            gj = geojson.load(f)\n",
    "            feature_list += gj['features']\n",
    "feature_collection = geojson.FeatureCollection(feature_list)\n",
    "\n",
    "with open(\"full_map.geojson\", mode = \"w\") as out_file:\n",
    "    geojson.dump(feature_collection,out_file)"
   ]
  },
  {
   "cell_type": "code",
   "execution_count": null,
   "metadata": {},
   "outputs": [],
   "source": []
  }
 ],
 "metadata": {
  "kernelspec": {
   "display_name": "Python 3",
   "language": "python",
   "name": "python3"
  },
  "language_info": {
   "codemirror_mode": {
    "name": "ipython",
    "version": 3
   },
   "file_extension": ".py",
   "mimetype": "text/x-python",
   "name": "python",
   "nbconvert_exporter": "python",
   "pygments_lexer": "ipython3",
   "version": "3.6.9"
  }
 },
 "nbformat": 4,
 "nbformat_minor": 4
}
