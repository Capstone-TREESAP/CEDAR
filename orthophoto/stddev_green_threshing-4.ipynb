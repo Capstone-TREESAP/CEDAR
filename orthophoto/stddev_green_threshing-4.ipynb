{
 "cells": [
  {
   "cell_type": "code",
   "execution_count": 1,
   "metadata": {},
   "outputs": [],
   "source": [
    "import os, cv2, geojson\n",
    "import numpy as np\n",
    "import scipy.ndimage as ndimage\n",
    "import matplotlib.pyplot as plt\n",
    "from datetime import datetime\n",
    "from matplotlib import cm, colors\n",
    "from pyproj import Proj\n",
    "UTM_10_PROJ = Proj(\"+proj=utm +zone=10N, +north +ellps=WGS84 +datum=WGS84 +units=m +no_defs\")"
   ]
  },
  {
   "cell_type": "code",
   "execution_count": 2,
   "metadata": {},
   "outputs": [],
   "source": [
    "def stddev_above_threshold(x,y,window_size, threshold,im):\n",
    "    r = im[x*window_size:(x+1)*window_size, y*window_size:(y+1)*window_size, 0:2]\n",
    "    return r.std() > threshold\n",
    "def compressed_green(x,y,window_size,green_mask):\n",
    "    r = green_mask[x*window_size:(x+1)*window_size, y*window_size:(y+1)*window_size]\n",
    "    return r.mean() > 128\n",
    "def convert_to_lon_lat(polygon_raw, x_res, y_res, utm_10_top_left_coord):\n",
    "    polygon_processed = [[x[0][0]*x_res+utm_10_top_left_coord[0],x[0][1]*y_res+utm_10_top_left_coord[1]] for x in polygon_raw]\n",
    "    projected = [UTM_10_PROJ(x[0], x[1], inverse=True) for x in polygon_processed]\n",
    "    head = projected[0]\n",
    "    projected.append(head)\n",
    "    return projected\n"
   ]
  },
  {
   "cell_type": "code",
   "execution_count": 3,
   "metadata": {},
   "outputs": [],
   "source": [
    "def extract_tree_cover_from_tif_tfw(filename, n, g, stddev_threshold, darker_colour_threshold, lighter_colour_threshold):\n",
    "    x_res = 0.0\n",
    "    y_res = 0.0\n",
    "    x_coord = 0.0\n",
    "    y_coord = 0.0\n",
    "\n",
    "    with open(filename+\".tfw\", mode = \"r\") as tfw_file:\n",
    "        x_res = float(tfw_file.readline())\n",
    "        tfw_file.readline()\n",
    "        tfw_file.readline()\n",
    "        y_res = float(tfw_file.readline())\n",
    "        x_coord = float(tfw_file.readline())\n",
    "        y_coord = float(tfw_file.readline())\n",
    "        \n",
    "    image = cv2.imread(filename+'.tif')\n",
    "    \n",
    "#     plt.imsave(\"original_\"+ filename + \".png\", image)\n",
    "    \n",
    "    kernel = np.ones((g,g),np.float32)/(g*g)\n",
    "    blurred_image = cv2.filter2D(image,-1,kernel)\n",
    "    hsv_blurred_image = cv2.cvtColor(blurred_image, cv2.COLOR_RGB2HSV)\n",
    "    mask = cv2.inRange(hsv_blurred_image, darker_colour_threshold, lighter_colour_threshold)\n",
    "    blurred_image = ndimage.gaussian_filter(image, sigma=2)\n",
    "    stddev_array = np.array([stddev_above_threshold(i//n,i%n,g,stddev_threshold,blurred_image) for i in range(0,n**2)]).reshape(n,n)\n",
    "    \n",
    "#     plt.imsave(\"stddev_\"+ filename + \".png\", stddev_array)\n",
    "    \n",
    "    compressed_green_array = np.array([compressed_green(i//n,i%n,g,mask) for i in range(0,n**2)]).reshape(n,n)\n",
    "    \n",
    "#     plt.imsave(\"green_\"+ filename + \".png\", compressed_green_array)\n",
    "    \n",
    "    green_stddev_array = np.array([compressed_green_array[i//n,i%n] and stddev_array[i//n,i%n] for i in range(0,n**2)]).reshape(n,n)\n",
    "    close_img = ndimage.binary_closing(green_stddev_array)\n",
    "    open_img = ndimage.binary_opening(close_img)\n",
    "    thresh = np.array(open_img*255,dtype=np.uint8)\n",
    "    \n",
    "#     plt.imsave(\"stddev_green_\"+ filename + \".png\", green_stddev_array)\n",
    "    \n",
    "    contours, hierarchy = cv2.findContours(thresh, cv2.RETR_EXTERNAL, cv2.CHAIN_APPROX_NONE)\n",
    "    print(\"Found \"+str(len(contours))+\" contours in \" + filename + \".tif\")\n",
    "\n",
    "    feature_list = []\n",
    "    for c in contours:\n",
    "        lon_lat = convert_to_lon_lat(c*g,x_res,y_res,[x_coord,y_coord])\n",
    "        feature_list.append(geojson.Feature(geometry=geojson.Polygon([lon_lat])))\n",
    "    feature_collection = geojson.FeatureCollection(feature_list)\n",
    "\n",
    "    with open(filename + \".geojson\", mode = \"w\") as out_file:\n",
    "        geojson.dump(feature_collection,out_file)"
   ]
  },
  {
   "cell_type": "code",
   "execution_count": 4,
   "metadata": {},
   "outputs": [
    {
     "name": "stdout",
     "output_type": "stream",
     "text": [
      "Found 157 contours in 483E_5457N.tif\n"
     ]
    },
    {
     "name": "stderr",
     "output_type": "stream",
     "text": [
      "/home/jonathan/.local/lib/python3.6/site-packages/numpy/core/_methods.py:234: RuntimeWarning: Degrees of freedom <= 0 for slice\n",
      "  keepdims=keepdims)\n",
      "/home/jonathan/.local/lib/python3.6/site-packages/numpy/core/_methods.py:195: RuntimeWarning: invalid value encountered in true_divide\n",
      "  arrmean, rcount, out=arrmean, casting='unsafe', subok=False)\n",
      "/home/jonathan/.local/lib/python3.6/site-packages/numpy/core/_methods.py:226: RuntimeWarning: invalid value encountered in double_scalars\n",
      "  ret = ret.dtype.type(ret / rcount)\n",
      "/home/jonathan/.local/lib/python3.6/site-packages/ipykernel_launcher.py:6: RuntimeWarning: Mean of empty slice.\n",
      "  \n",
      "/home/jonathan/.local/lib/python3.6/site-packages/numpy/core/_methods.py:170: RuntimeWarning: invalid value encountered in double_scalars\n",
      "  ret = ret.dtype.type(ret / rcount)\n"
     ]
    },
    {
     "name": "stdout",
     "output_type": "stream",
     "text": [
      "Found 39 contours in 480E_5458N.tif\n",
      "Found 151 contours in 484E_5456N.tif\n",
      "Found 93 contours in 484E_5453N.tif\n",
      "Found 3 contours in 480E_5453N.tif\n",
      "Found 178 contours in 481E_5455N.tif\n",
      "Found 100 contours in 484E_5458N.tif\n",
      "Found 20 contours in 480E_5454N.tif\n",
      "Found 241 contours in 482E_5454N.tif\n",
      "Found 224 contours in 481E_5457N.tif\n",
      "Found 86 contours in 480E_5455N.tif\n",
      "Found 90 contours in 481E_5453N.tif\n",
      "Found 44 contours in 480E_5456N.tif\n",
      "Found 101 contours in 482E_5457N.tif\n",
      "Found 45 contours in 480E_5457N.tif\n",
      "Found 93 contours in 483E_5458N.tif\n",
      "Found 59 contours in 481E_5458N.tif\n",
      "Found 88 contours in 482E_5458N.tif\n",
      "Found 60 contours in 484E_5455N.tif\n",
      "Found 449 contours in 482E_5455N.tif\n",
      "Found 98 contours in 483E_5453N.tif\n",
      "Found 203 contours in 481E_5454N.tif\n",
      "Found 18 contours in 484E_5457N.tif\n",
      "Found 202 contours in 483E_5454N.tif\n",
      "Found 193 contours in 482E_5456N.tif\n",
      "Found 200 contours in 481E_5456N.tif\n",
      "Found 87 contours in 482E_5453N.tif\n",
      "Found 191 contours in 483E_5455N.tif\n",
      "Found 103 contours in 484E_5454N.tif\n",
      "Found 288 contours in 483E_5456N.tif\n"
     ]
    }
   ],
   "source": [
    "##### size of image\n",
    "width = 10000\n",
    "# granularity of subimages\n",
    "g = 20\n",
    "# number of subimages\n",
    "n = int(width / g)\n",
    "stddev_threshold = 10\n",
    "dark_green = (35/360*255,0, 0)\n",
    "light_green = (240/360*255, 255, 150)\n",
    "\n",
    "#Start extraction\n",
    "directory = \"/home/jonathan/ubc/capstone/orthophoto/2016\"\n",
    "os.chdir(directory)\n",
    "# extract_tree_cover_from_tif_tfw(\"482E_5455N\",n,g,stddev_threshold,dark_green,light_green)\n",
    "for file in os.listdir(directory):\n",
    "     if file.endswith(\".tif\"): \n",
    "        extract_tree_cover_from_tif_tfw(file[:-4],n,g,stddev_threshold,dark_green,light_green)"
   ]
  },
  {
   "cell_type": "code",
   "execution_count": null,
   "metadata": {},
   "outputs": [],
   "source": []
  }
 ],
 "metadata": {
  "kernelspec": {
   "display_name": "Python 3",
   "language": "python",
   "name": "python3"
  },
  "language_info": {
   "codemirror_mode": {
    "name": "ipython",
    "version": 3
   },
   "file_extension": ".py",
   "mimetype": "text/x-python",
   "name": "python",
   "nbconvert_exporter": "python",
   "pygments_lexer": "ipython3",
   "version": "3.6.9"
  }
 },
 "nbformat": 4,
 "nbformat_minor": 4
}
