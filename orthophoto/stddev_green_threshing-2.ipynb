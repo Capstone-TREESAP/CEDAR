{
 "cells": [
  {
   "cell_type": "code",
   "execution_count": 1,
   "metadata": {},
   "outputs": [],
   "source": [
    "import os, cv2, geojson\n",
    "import numpy as np\n",
    "import scipy.ndimage as ndimage\n",
    "import matplotlib.pyplot as plt\n",
    "from datetime import datetime\n",
    "from matplotlib import cm, colors\n",
    "from pyproj import Proj\n",
    "UTM_10_PROJ = Proj(\"+proj=utm +zone=10N, +north +ellps=WGS84 +datum=WGS84 +units=m +no_defs\")"
   ]
  },
  {
   "cell_type": "code",
   "execution_count": 2,
   "metadata": {},
   "outputs": [],
   "source": [
    "def stddev_above_threshold(x,y,window_size, threshold,im):\n",
    "    r = im[x*window_size:(x+1)*window_size, y*window_size:(y+1)*window_size, 0:3]\n",
    "    return r.std() > threshold\n",
    "def compressed_green(x,y,window_size,green_mask):\n",
    "    r = green_mask[x*window_size:(x+1)*window_size, y*window_size:(y+1)*window_size]\n",
    "    return r.mean() > 128\n",
    "def convert_to_lon_lat(polygon_raw, x_res, y_res, utm_10_top_left_coord):\n",
    "    polygon_processed = [[x[0][0]*x_res+utm_10_top_left_coord[0],x[0][1]*y_res+utm_10_top_left_coord[1]] for x in polygon_raw]\n",
    "    projected = [UTM_10_PROJ(x[0], x[1], inverse=True) for x in polygon_processed]\n",
    "    head = projected[0]\n",
    "    projected.append(head)\n",
    "    return projected\n",
    "# size of image\n",
    "width = 10000\n",
    "# granularity of subimages\n",
    "g = 20\n",
    "# number of subimages\n",
    "n = int(width / g)\n",
    "stddev_threshold = 12\n",
    "dark_green = (55/360*255,0, 0)\n",
    "light_green = (180/360*255, 255, 150)"
   ]
  },
  {
   "cell_type": "code",
   "execution_count": 3,
   "metadata": {},
   "outputs": [],
   "source": [
    "os.chdir(\"/home/jonathan/ubc/capstone/orthophoto/2014\")\n",
    "image = cv2.imread('483E_5454N.tif')"
   ]
  },
  {
   "cell_type": "code",
   "execution_count": 4,
   "metadata": {},
   "outputs": [],
   "source": [
    "kernel = np.ones((g,g),np.float32)/(g*g)\n",
    "blurred_image = cv2.filter2D(image,-1,kernel)\n",
    "hsv_blurred_image = cv2.cvtColor(blurred_image, cv2.COLOR_RGB2HSV)\n",
    "mask = cv2.inRange(hsv_blurred_image, dark_green, light_green)"
   ]
  },
  {
   "cell_type": "code",
   "execution_count": 5,
   "metadata": {},
   "outputs": [],
   "source": [
    "blurred_image = ndimage.gaussian_filter(image, sigma=2)\n",
    "stddev_array = np.array([stddev_above_threshold(i//n,i%n,g,stddev_threshold,blurred_image) for i in range(0,n**2)]).reshape(n,n)\n",
    "compressed_green_array = np.array([compressed_green(i//n,i%n,g,mask) for i in range(0,n**2)]).reshape(n,n)\n",
    "green_stddev_array = np.array([compressed_green_array[i//n,i%n] and stddev_array[i//n,i%n] for i in range(0,n**2)]).reshape(n,n)\n",
    "close_img = ndimage.binary_closing(green_stddev_array)\n",
    "open_img = ndimage.binary_opening(close_img)"
   ]
  },
  {
   "cell_type": "code",
   "execution_count": 6,
   "metadata": {},
   "outputs": [
    {
     "data": {
      "text/plain": [
       "169"
      ]
     },
     "execution_count": 6,
     "metadata": {},
     "output_type": "execute_result"
    }
   ],
   "source": [
    "thresh = np.array(open_img*255,dtype=np.uint8)\n",
    "contours, hierarchy = cv2.findContours(thresh, cv2.RETR_EXTERNAL, cv2.CHAIN_APPROX_SIMPLE)\n",
    "len(contours)"
   ]
  },
  {
   "cell_type": "code",
   "execution_count": 9,
   "metadata": {},
   "outputs": [],
   "source": [
    "feature_list = []\n",
    "for c in contours:\n",
    "    lon_lat = convert_to_lon_lat(c*g,0.1,-0.1,[483000.050000,5454999.950000])\n",
    "    feature_list.append(geojson.Feature(geometry=geojson.Polygon([lon_lat])))\n",
    "feature_collection = geojson.FeatureCollection(feature_list)\n",
    "\n",
    "with open(\"polygons2.geojson\", mode = \"w\") as out_file:\n",
    "    geojson.dump(feature_collection,out_file)"
   ]
  },
  {
   "cell_type": "code",
   "execution_count": null,
   "metadata": {},
   "outputs": [],
   "source": []
  }
 ],
 "metadata": {
  "kernelspec": {
   "display_name": "Python 3",
   "language": "python",
   "name": "python3"
  },
  "language_info": {
   "codemirror_mode": {
    "name": "ipython",
    "version": 3
   },
   "file_extension": ".py",
   "mimetype": "text/x-python",
   "name": "python",
   "nbconvert_exporter": "python",
   "pygments_lexer": "ipython3",
   "version": "3.6.9"
  }
 },
 "nbformat": 4,
 "nbformat_minor": 4
}
