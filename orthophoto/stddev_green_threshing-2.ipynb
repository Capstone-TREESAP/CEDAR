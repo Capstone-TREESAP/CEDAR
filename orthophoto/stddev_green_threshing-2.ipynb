{
 "cells": [
  {
   "cell_type": "code",
   "execution_count": 1,
   "metadata": {},
   "outputs": [],
   "source": [
    "import os, cv2, geojson\n",
    "import numpy as np\n",
    "import scipy.ndimage as ndimage\n",
    "import matplotlib.pyplot as plt\n",
    "from datetime import datetime\n",
    "from matplotlib import cm, colors\n",
    "from pyproj import Proj\n",
    "UTM_10_PROJ = Proj(\"+proj=utm +zone=10N, +north +ellps=WGS84 +datum=WGS84 +units=m +no_defs\")"
   ]
  },
  {
   "cell_type": "code",
   "execution_count": 2,
   "metadata": {},
   "outputs": [],
   "source": [
    "def stddev_above_threshold(x,y,window_size, threshold,im):\n",
    "    r = im[x*window_size:(x+1)*window_size, y*window_size:(y+1)*window_size, 0:3]\n",
    "    return r.std() > threshold\n",
    "def compressed_green(x,y,window_size,green_mask):\n",
    "    r = green_mask[x*window_size:(x+1)*window_size, y*window_size:(y+1)*window_size]\n",
    "    return r.mean() > 128\n",
    "def convert_to_lon_lat(polygon_raw, x_res, y_res, utm_10_top_left_coord):\n",
    "    polygon_processed = [[x[0][0]*x_res+utm_10_top_left_coord[0],x[0][1]*y_res+utm_10_top_left_coord[1]] for x in polygon_raw]\n",
    "    projected = [UTM_10_PROJ(x[0], x[1], inverse=True) for x in polygon_processed]\n",
    "    head = projected[0]\n",
    "    projected.append(head)\n",
    "    return projected\n"
   ]
  },
  {
   "cell_type": "code",
   "execution_count": 3,
   "metadata": {},
   "outputs": [],
   "source": [
    "def extract_tree_cover_from_tif_tfw(filename, n, g, stddev_threshold, darker_colour_threshold, lighter_colour_threshold):\n",
    "    x_res = 0.0\n",
    "    y_res = 0.0\n",
    "    x_coord = 0.0\n",
    "    y_coord = 0.0\n",
    "\n",
    "    with open(filename+\".tfw\", mode = \"r\") as tfw_file:\n",
    "        x_res = float(tfw_file.readline())\n",
    "        tfw_file.readline()\n",
    "        tfw_file.readline()\n",
    "        y_res = float(tfw_file.readline())\n",
    "        x_coord = float(tfw_file.readline())\n",
    "        y_coord = float(tfw_file.readline())\n",
    "        \n",
    "    image = cv2.imread(filename+'.tif')\n",
    "    kernel = np.ones((g,g),np.float32)/(g*g)\n",
    "    blurred_image = cv2.filter2D(image,-1,kernel)\n",
    "    hsv_blurred_image = cv2.cvtColor(blurred_image, cv2.COLOR_RGB2HSV)\n",
    "    mask = cv2.inRange(hsv_blurred_image, darker_colour_threshold, lighter_colour_threshold)\n",
    "    blurred_image = ndimage.gaussian_filter(image, sigma=2)\n",
    "    stddev_array = np.array([stddev_above_threshold(i//n,i%n,g,stddev_threshold,blurred_image) for i in range(0,n**2)]).reshape(n,n)\n",
    "    \n",
    "#     plt.imsave(\"stddev_\"+ filename + \".png\", stddev_array)\n",
    "    \n",
    "    compressed_green_array = np.array([compressed_green(i//n,i%n,g,mask) for i in range(0,n**2)]).reshape(n,n)\n",
    "    \n",
    "#     plt.imsave(\"green_\"+ filename + \".png\", compressed_green_array)\n",
    "    \n",
    "    green_stddev_array = np.array([compressed_green_array[i//n,i%n] and stddev_array[i//n,i%n] for i in range(0,n**2)]).reshape(n,n)\n",
    "    close_img = ndimage.binary_closing(green_stddev_array)\n",
    "    open_img = ndimage.binary_opening(close_img)\n",
    "    thresh = np.array(open_img*255,dtype=np.uint8)\n",
    "    \n",
    "#     plt.imsave(\"stddev_green_\"+ filename + \".png\", green_stddev_array)\n",
    "    \n",
    "    contours, hierarchy = cv2.findContours(thresh, cv2.RETR_EXTERNAL, cv2.CHAIN_APPROX_NONE)\n",
    "    print(\"Found \"+str(len(contours))+\" contours in \" + filename + \".tif\")\n",
    "\n",
    "    feature_list = []\n",
    "    for c in contours:\n",
    "        lon_lat = convert_to_lon_lat(c*g,x_res,y_res,[x_coord,y_coord])\n",
    "        feature_list.append(geojson.Feature(geometry=geojson.Polygon([lon_lat])))\n",
    "    feature_collection = geojson.FeatureCollection(feature_list)\n",
    "\n",
    "    with open(filename + \".geojson\", mode = \"w\") as out_file:\n",
    "        geojson.dump(feature_collection,out_file)"
   ]
  },
  {
   "cell_type": "code",
   "execution_count": 6,
   "metadata": {},
   "outputs": [
    {
     "name": "stdout",
     "output_type": "stream",
     "text": [
      "Found 178 contours in 483E_5457N.tif\n"
     ]
    },
    {
     "name": "stderr",
     "output_type": "stream",
     "text": [
      "/home/jonathan/.local/lib/python3.6/site-packages/ipykernel_launcher.py:6: RuntimeWarning: Mean of empty slice.\n",
      "  \n"
     ]
    },
    {
     "name": "stdout",
     "output_type": "stream",
     "text": [
      "Found 119 contours in 480E_5458N.tif\n",
      "Found 140 contours in 484E_5456N.tif\n",
      "Found 109 contours in 484E_5453N.tif\n",
      "Found 985 contours in 480E_5453N.tif\n",
      "Found 261 contours in 481E_5455N.tif\n",
      "Found 41 contours in 484E_5458N.tif\n",
      "Found 1150 contours in 480E_5454N.tif\n",
      "Found 258 contours in 482E_5454N.tif\n",
      "Found 513 contours in 481E_5457N.tif\n",
      "Found 497 contours in 480E_5455N.tif\n",
      "Found 212 contours in 481E_5453N.tif\n",
      "Found 669 contours in 480E_5456N.tif\n",
      "Found 220 contours in 482E_5457N.tif\n",
      "Found 832 contours in 480E_5457N.tif\n",
      "Found 371 contours in 483E_5458N.tif\n",
      "Found 134 contours in 481E_5458N.tif\n",
      "Found 414 contours in 482E_5458N.tif\n",
      "Found 30 contours in 484E_5455N.tif\n",
      "Found 400 contours in 482E_5455N.tif\n",
      "Found 265 contours in 483E_5453N.tif\n",
      "Found 315 contours in 481E_5454N.tif\n",
      "Found 60 contours in 484E_5457N.tif\n",
      "Found 187 contours in 483E_5454N.tif\n",
      "Found 551 contours in 482E_5456N.tif\n",
      "Found 576 contours in 481E_5456N.tif\n",
      "Found 216 contours in 482E_5453N.tif\n",
      "Found 260 contours in 483E_5455N.tif\n",
      "Found 96 contours in 484E_5454N.tif\n",
      "Found 351 contours in 483E_5456N.tif\n"
     ]
    }
   ],
   "source": [
    "# size of image\n",
    "width = 10000\n",
    "# granularity of subimages\n",
    "g = 20\n",
    "# number of subimages\n",
    "n = int(width / g)\n",
    "stddev_threshold = 9\n",
    "dark_green = (55/360*255,0, 0)\n",
    "light_green = (270/360*255, 255, 150)\n",
    "\n",
    "#Start extraction\n",
    "directory = \"/home/jonathan/ubc/capstone/orthophoto/2018\"\n",
    "os.chdir(directory)\n",
    "# extract_tree_cover_from_tif_tfw(\"482E_5455N\",n,g,stddev_threshold,dark_green,light_green)\n",
    "for file in os.listdir(directory):\n",
    "     if file.endswith(\".tif\"): \n",
    "        extract_tree_cover_from_tif_tfw(file[:-4],n,g,stddev_threshold,dark_green,light_green)"
   ]
  },
  {
   "cell_type": "code",
   "execution_count": null,
   "metadata": {},
   "outputs": [],
   "source": []
  },
  {
   "cell_type": "code",
   "execution_count": null,
   "metadata": {},
   "outputs": [],
   "source": []
  }
 ],
 "metadata": {
  "kernelspec": {
   "display_name": "Python 3",
   "language": "python",
   "name": "python3"
  },
  "language_info": {
   "codemirror_mode": {
    "name": "ipython",
    "version": 3
   },
   "file_extension": ".py",
   "mimetype": "text/x-python",
   "name": "python",
   "nbconvert_exporter": "python",
   "pygments_lexer": "ipython3",
   "version": "3.6.9"
  }
 },
 "nbformat": 4,
 "nbformat_minor": 4
}
